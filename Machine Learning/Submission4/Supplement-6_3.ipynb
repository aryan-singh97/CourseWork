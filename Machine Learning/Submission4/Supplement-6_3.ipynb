{
 "cells": [
  {
   "cell_type": "markdown",
   "metadata": {},
   "source": [
    "## Supplement 6: Decision Trees and Random Forest"
   ]
  },
  {
   "cell_type": "code",
   "execution_count": 1,
   "metadata": {},
   "outputs": [],
   "source": [
    "%matplotlib inline\n",
    "import numpy as np\n",
    "import pandas as pd\n",
    "\n",
    "from sklearn.ensemble import RandomForestClassifier\n",
    "from sklearn import tree\n",
    "from scipy.stats import mode\n"
   ]
  },
  {
   "cell_type": "markdown",
   "metadata": {},
   "source": [
    "### 6.3 Programming Task: Song popularity prediction using Random Forest\n",
    "The goal of this task is to train a random forest model that predicts the song popularity using the datasets already provided in task 4.3\n",
    " "
   ]
  },
  {
   "cell_type": "code",
   "execution_count": 2,
   "metadata": {},
   "outputs": [],
   "source": [
    "# Read data\n",
    "\n",
    "train_data = pd.read_csv(\"train-songs.csv\")\n",
    "test_data = pd.read_csv(\"test-songs.csv\")\n",
    "\n",
    "X_train = train_data.iloc[:, :-1].values\n",
    "y_train = train_data.iloc[:, -1].values\n",
    "\n",
    "X_test = test_data.iloc[:, :-1].values\n",
    "y_test = test_data.iloc[:, -1].values"
   ]
  },
  {
   "cell_type": "markdown",
   "metadata": {},
   "source": [
    "   i\\. Implement a function that draws a bootstrap sample of size N from the train dataset, where N can be specified by the user.\n",
    "\n",
    "\n"
   ]
  },
  {
   "cell_type": "code",
   "execution_count": 3,
   "metadata": {},
   "outputs": [],
   "source": [
    "def generate_bootstrap(train_X,train_y,N):\n",
    "   # Generate random indices with replacement\n",
    "    indices = np.random.choice(len(train_X), size=N, replace=True)\n",
    "    \n",
    "    # Use the indices to create the bootstrap samples\n",
    "    bootstrap_X = train_X[indices]\n",
    "    bootstrap_y = train_y[indices]\n",
    "    \n",
    "    return bootstrap_X, bootstrap_y"
   ]
  },
  {
   "cell_type": "markdown",
   "metadata": {},
   "source": [
    "   ii\\. Complete the implementation of the random forest algorithm. For this task you may use the DecisionTreeClassifier from the scikit-learn library. The other parts of the random forest algorithm must be implemented using only Scipy/Numpy."
   ]
  },
  {
   "cell_type": "code",
   "execution_count": 18,
   "metadata": {},
   "outputs": [],
   "source": [
    "from sklearn.tree import DecisionTreeClassifier\n",
    "import numpy as np\n",
    "from scipy.stats import mode\n",
    "\n",
    "class RandomForest:\n",
    "    def __init__(self, n_trees, max_features, max_samples, min_node_size, max_depth):\n",
    "        #TODO Initialize list containing weak classifiers. Also initialize any other parameter if required.\n",
    "        self.n_trees = n_trees\n",
    "        self.max_features = max_features\n",
    "        self.max_samples = max_samples\n",
    "        self.min_node_size = min_node_size\n",
    "        self.max_depth = max_depth\n",
    "        self.trees = []\n",
    "\n",
    "        for _ in range(n_trees):\n",
    "            tree = DecisionTreeClassifier(max_features=self.max_features, \n",
    "                                          min_samples_leaf=self.min_node_size,\n",
    "                                          max_depth=self.max_depth)\n",
    "            self.trees.append(tree)\n",
    "\n",
    "    def train(self, train_X, train_y):\n",
    "        #TODO Training each weak classifier\n",
    "        for tree in self.trees:\n",
    "            # Generate a bootstrap sample\n",
    "            bootstrap_indices = np.random.choice(np.arange(len(train_X)), size=self.max_samples, replace=True)\n",
    "            bootstrap_X = train_X[bootstrap_indices]\n",
    "            bootstrap_y = train_y[bootstrap_indices]\n",
    "\n",
    "            # Train the tree on the bootstrap sample\n",
    "            tree.fit(bootstrap_X, bootstrap_y)\n",
    "\n",
    "\n",
    "    def predict(self, test_X):\n",
    "        # Collect predictions from each tree for all test instances\n",
    "        predictions = np.array([tree.predict(test_X) for tree in self.trees])\n",
    "\n",
    "        # Transpose the predictions to get a matrix where each row represents a test instance\n",
    "        predictions = predictions.T\n",
    "\n",
    "        # Majority vote for each test instance\n",
    "        y_predictions, _ = mode(predictions, axis=1)\n",
    "        return y_predictions.ravel()  # Flatten the array to 1D\n",
    "    "
   ]
  },
  {
   "cell_type": "markdown",
   "metadata": {},
   "source": [
    "iii\\. Train the model for the dataset from train-songs.csv using the parameters given below.\n",
    "| Parameter| Value|\n",
    "|----------|------|\n",
    "Number of trees|100|\n",
    "Maximum features per tree|2|\n",
    "Bootstrap sample size|20000|\n",
    "Minimum node size|1|\n",
    "Maximum tree depth|10|\n",
    "\n",
    "\n",
    "Note: The bootstrap sample size is the same as train dataset size in this task.\n"
   ]
  },
  {
   "cell_type": "code",
   "execution_count": 19,
   "metadata": {},
   "outputs": [],
   "source": [
    "# Parameters for the Random Forest\n",
    "n_trees = 100\n",
    "max_features = 2\n",
    "max_samples = len(X_train)  # Using the entire dataset size\n",
    "min_node_size = 1\n",
    "max_depth = 10\n",
    "\n",
    "# Create and train the Random Forest model\n",
    "random_forest = RandomForest(n_trees=n_trees, max_features=max_features, max_samples=max_samples, \n",
    "                             min_node_size=min_node_size, max_depth=max_depth)\n",
    "random_forest.train(X_train, y_train)\n",
    "\n",
    "train_X = X_train\n",
    "train_y = y_train"
   ]
  },
  {
   "cell_type": "code",
   "execution_count": 20,
   "metadata": {},
   "outputs": [],
   "source": [
    "# Note: Run this cell without any changes. The model will train if the implementation of subtask (ii) is correct.\n",
    "\n",
    "random_forest_model = RandomForest(n_trees=100, max_samples=20000,max_depth=10,min_node_size=1, max_features=2 )\n",
    "\n",
    "random_forest_model.train(train_X, train_y)\n",
    "\n",
    "\n"
   ]
  },
  {
   "cell_type": "markdown",
   "metadata": {},
   "source": [
    "   iv\\. Calculate the accuracy of the model using the test dataset and compare your results with the\n",
    "RandomForestClassifier from the scikit-learn library using the following parameters."
   ]
  },
  {
   "cell_type": "code",
   "execution_count": 21,
   "metadata": {},
   "outputs": [
    {
     "name": "stdout",
     "output_type": "stream",
     "text": [
      "Custom Random Forest Accuracy: 0.804\n",
      "Scikit-learn Random Forest Accuracy: 0.8055\n"
     ]
    }
   ],
   "source": [
    "# TODO Run predict for test data and calculate accuracy\n",
    "from sklearn.metrics import accuracy_score\n",
    "from sklearn.ensemble import RandomForestClassifier\n",
    "\n",
    "# Predictions from the custom Random Forest model\n",
    "y_pred_custom = random_forest.predict(X_test)\n",
    "\n",
    "# Accuracy of the custom Random Forest model\n",
    "accuracy_custom = accuracy_score(y_test, y_pred_custom)\n",
    "\n",
    "# Training and prediction using scikit-learn's RandomForestClassifier\n",
    "sklearn_rf = RandomForestClassifier(n_estimators=100, max_depth=10, min_samples_leaf=1, max_features=2)\n",
    "sklearn_rf.fit(X_train, y_train)\n",
    "y_pred_sklearn = sklearn_rf.predict(X_test)\n",
    "\n",
    "# Accuracy of scikit-learn's RandomForestClassifier\n",
    "accuracy_sklearn = accuracy_score(y_test, y_pred_sklearn)\n",
    "\n",
    "# Print the accuracies\n",
    "print(f\"Custom Random Forest Accuracy: {accuracy_custom}\")\n",
    "print(f\"Scikit-learn Random Forest Accuracy: {accuracy_sklearn}\")\n",
    "\n"
   ]
  },
  {
   "cell_type": "code",
   "execution_count": 22,
   "metadata": {},
   "outputs": [
    {
     "name": "stdout",
     "output_type": "stream",
     "text": [
      "Accuracy of scikit-learn's RandomForestClassifier: 0.807\n"
     ]
    }
   ],
   "source": [
    "# TODO: Train and predict using scikit-learn library\n",
    "from sklearn.ensemble import RandomForestClassifier\n",
    "from sklearn.metrics import accuracy_score\n",
    "\n",
    "# Create the RandomForestClassifier instance with the specified parameters\n",
    "rf_classifier = RandomForestClassifier(n_estimators=100, max_features=2, max_depth=10, min_samples_leaf=1)\n",
    "\n",
    "# Train the model using the training data\n",
    "rf_classifier.fit(X_train, y_train)\n",
    "\n",
    "# Predict on the test data\n",
    "y_pred_sklearn = rf_classifier.predict(X_test)\n",
    "\n",
    "# Calculate the accuracy of the predictions\n",
    "accuracy_sklearn = accuracy_score(y_test, y_pred_sklearn)\n",
    "\n",
    "print(f\"Accuracy of scikit-learn's RandomForestClassifier: {accuracy_sklearn}\")\n"
   ]
  },
  {
   "cell_type": "code",
   "execution_count": null,
   "metadata": {},
   "outputs": [],
   "source": []
  }
 ],
 "metadata": {
  "kernel_info": {
   "name": "python3"
  },
  "kernelspec": {
   "display_name": "Python 3 (ipykernel)",
   "language": "python",
   "name": "python3"
  },
  "language_info": {
   "codemirror_mode": {
    "name": "ipython",
    "version": 3
   },
   "file_extension": ".py",
   "mimetype": "text/x-python",
   "name": "python",
   "nbconvert_exporter": "python",
   "pygments_lexer": "ipython3",
   "version": "3.11.5"
  },
  "nteract": {
   "version": "0.15.0"
  },
  "vscode": {
   "interpreter": {
    "hash": "7c617624a7fd88b4018bd9e75be0d58c4afb6a334791d511af9b9a5162b5af2b"
   }
  }
 },
 "nbformat": 4,
 "nbformat_minor": 2
}
